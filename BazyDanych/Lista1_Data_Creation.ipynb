{
 "cells": [
  {
   "cell_type": "code",
   "execution_count": 52,
   "metadata": {},
   "outputs": [],
   "source": [
    "import requests\n",
    "import random\n",
    "link = \"https://gist.githubusercontent.com/dariusz-wozniak/656f2f9070b4205c5009716f05c94067/raw/b291d58154c85dad840859fef4e63efb163005b0/list-of-countries.txt\"\n",
    "req = requests.get(link)\n"
   ]
  },
  {
   "cell_type": "code",
   "execution_count": 53,
   "metadata": {},
   "outputs": [],
   "source": [
    "content = str(req.content).split(\"\\\\n\")\n",
    "content = content[4:]\n",
    "continent_pos = [\"Europe\", \"Africa\", \"North America\", \"Asia\", \"South America\", \"Oceania\"]"
   ]
  },
  {
   "cell_type": "code",
   "execution_count": 54,
   "metadata": {},
   "outputs": [],
   "source": [
    "def CreateData(how_much = 20):\n",
    "    for i in range(0, how_much):\n",
    "        country = random.choice(content)\n",
    "        population = random.randrange(5000000,50000000)\n",
    "        continent = random.choice(continent_pos)\n",
    "        \n",
    "        content.remove(country) # we are removing already chosen country\n",
    "        if i == how_much - 1:\n",
    "            print(f\"('{country}', {population}, '{continent}');\")\n",
    "        else:\n",
    "            \n",
    "            print(f\"('{country}', {population}, '{continent}'),\")\n",
    "       "
   ]
  },
  {
   "cell_type": "code",
   "execution_count": 55,
   "metadata": {},
   "outputs": [
    {
     "name": "stdout",
     "output_type": "stream",
     "text": [
      "INSERT INTO world (country, population, continent)\n",
      "VALUES\n",
      "('Cayman Islands', 10776799, 'Oceania'),\n",
      "('Burundi', 14118088, 'Europe'),\n",
      "('Mauritania', 29375337, 'Oceania'),\n",
      "('Czechia', 30634941, 'South America'),\n",
      "('Christmas Island', 37686578, 'Asia'),\n",
      "('North Macedonia', 25499065, 'North America'),\n",
      "('Benin', 34414384, 'Europe'),\n",
      "('Macao SAR China', 47291396, 'Oceania'),\n",
      "('Marshall Islands', 18786797, 'South America'),\n",
      "('Norfolk Island', 23387982, 'South America'),\n",
      "('Guam', 11351430, 'South America'),\n",
      "('Sudan', 24903830, 'North America'),\n",
      "('Malaysia', 47020669, 'South America'),\n",
      "('Iraq', 8637455, 'Europe'),\n",
      "('Congo', 40902822, 'Africa'),\n",
      "('St. Barth\\xc3\\xa9lemy', 7064055, 'South America'),\n",
      "('Samoa', 40160434, 'South America'),\n",
      "('Chile', 45946985, 'Oceania'),\n",
      "('Turks & Caicos Islands', 29605622, 'North America'),\n",
      "('Montenegro', 33158730, 'South America');\n"
     ]
    }
   ],
   "source": [
    "print(\"INSERT INTO world (country, population, continent)\")\n",
    "print(\"VALUES\")\n",
    "CreateData()\n"
   ]
  }
 ],
 "metadata": {
  "kernelspec": {
   "display_name": "Python 3",
   "language": "python",
   "name": "python3"
  },
  "language_info": {
   "codemirror_mode": {
    "name": "ipython",
    "version": 3
   },
   "file_extension": ".py",
   "mimetype": "text/x-python",
   "name": "python",
   "nbconvert_exporter": "python",
   "pygments_lexer": "ipython3",
   "version": "3.12.7"
  }
 },
 "nbformat": 4,
 "nbformat_minor": 2
}
